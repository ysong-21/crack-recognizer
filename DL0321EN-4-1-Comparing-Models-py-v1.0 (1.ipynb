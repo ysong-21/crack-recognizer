{
    "cells": [
        {
            "cell_type": "markdown",
            "metadata": {
                "button": false,
                "new_sheet": false,
                "run_control": {
                    "read_only": false
                }
            },
            "source": "<a href=\"https://cognitiveclass.ai\"><img src = \"https://s3-api.us-geo.objectstorage.softlayer.net/cf-courses-data/CognitiveClass/Logos/organization_logo/organization_logo.png\" width = 400> </a>\n\n<h1 align=center><font size = 5>Peer Review Final Assignment</font></h1>"
        },
        {
            "cell_type": "markdown",
            "metadata": {
                "button": false,
                "new_sheet": false,
                "run_control": {
                    "read_only": false
                }
            },
            "source": "## Introduction\n"
        },
        {
            "cell_type": "markdown",
            "metadata": {
                "button": false,
                "new_sheet": false,
                "run_control": {
                    "read_only": false
                }
            },
            "source": "In this lab, you will build an image classifier using the VGG16 pre-trained model, and you will evaluate it and compare its performance to the model we built in the last module using the ResNet50 pre-trained model. Good luck!"
        },
        {
            "cell_type": "markdown",
            "metadata": {
                "button": false,
                "new_sheet": false,
                "run_control": {
                    "read_only": false
                }
            },
            "source": "## Table of Contents\n\n<div class=\"alert alert-block alert-info\" style=\"margin-top: 20px\">\n\n<font size = 3>    \n\n1. <a href=\"#item41\">Download Data \n2. <a href=\"#item42\">Part 1</a>\n3. <a href=\"#item43\">Part 2</a>  \n4. <a href=\"#item44\">Part 3</a>  \n\n</font>\n    \n</div>"
        },
        {
            "cell_type": "markdown",
            "metadata": {
                "button": false,
                "new_sheet": false,
                "run_control": {
                    "read_only": false
                }
            },
            "source": "   "
        },
        {
            "cell_type": "markdown",
            "metadata": {},
            "source": "<a id=\"item41\"></a>"
        },
        {
            "cell_type": "markdown",
            "metadata": {},
            "source": "## Download Data"
        },
        {
            "cell_type": "markdown",
            "metadata": {},
            "source": "Use the <code>wget</code> command to download the data for this assignment from here: https://s3-api.us-geo.objectstorage.softlayer.net/cf-courses-data/CognitiveClass/DL0321EN/data/concrete_data_week4.zip"
        },
        {
            "cell_type": "markdown",
            "metadata": {},
            "source": "Use the following cells to download the data."
        },
        {
            "cell_type": "code",
            "execution_count": 3,
            "metadata": {},
            "outputs": [
                {
                    "name": "stderr",
                    "output_type": "stream",
                    "text": "'wget' is not recognized as an internal or external command,\noperable program or batch file.\n"
                }
            ],
            "source": "!wget https://s3-api.us-geo.objectstorage.softlayer.net/cf-courses-data/CognitiveClass/DL0321EN/data/concrete_data_week4.zip"
        },
        {
            "cell_type": "code",
            "execution_count": 1,
            "metadata": {},
            "outputs": [],
            "source": "import wget"
        },
        {
            "cell_type": "code",
            "execution_count": 5,
            "metadata": {},
            "outputs": [],
            "source": "filename = wget.download('https://s3-api.us-geo.objectstorage.softlayer.net/cf-courses-data/CognitiveClass/DL0321EN/data/concrete_data_week4.zip')"
        },
        {
            "cell_type": "code",
            "execution_count": 20,
            "metadata": {},
            "outputs": [],
            "source": "import zipfile\nwith zipfile.ZipFile('concrete_data_week4.zip', 'r') as zip_ref:\n    zip_ref.extractall('concrete_data_week4')"
        },
        {
            "cell_type": "code",
            "execution_count": null,
            "metadata": {},
            "outputs": [],
            "source": ""
        },
        {
            "cell_type": "code",
            "execution_count": 3,
            "metadata": {},
            "outputs": [
                {
                    "name": "stdout",
                    "output_type": "stream",
                    "text": "/bin/sh: 1: unzip: not found\n"
                }
            ],
            "source": "!unzip concrete_data_week4.zip"
        },
        {
            "cell_type": "markdown",
            "metadata": {},
            "source": "After you unzip the data, you fill find the data has already been divided into a train, validation, and test sets."
        },
        {
            "cell_type": "markdown",
            "metadata": {},
            "source": "  "
        },
        {
            "cell_type": "markdown",
            "metadata": {
                "button": false,
                "new_sheet": false,
                "run_control": {
                    "read_only": false
                }
            },
            "source": "<a id=\"item42\"></a>"
        },
        {
            "cell_type": "markdown",
            "metadata": {},
            "source": "## Part 1"
        },
        {
            "cell_type": "markdown",
            "metadata": {},
            "source": "In this part, you will design a classifier using the VGG16 pre-trained model. Just like the ResNet50 model, you can import the model <code>VGG16</code> from <code>keras.applications</code>."
        },
        {
            "cell_type": "markdown",
            "metadata": {},
            "source": "You will essentially build your classifier as follows:\n1. Import libraries, modules, and packages you will need. Make sure to import the *preprocess_input* function from <code>keras.applications.vgg16</code>.\n2. Use a batch size of 100 images for both training and validation.\n3. Construct an ImageDataGenerator for the training set and another one for the validation set. VGG16 was originally trained on 224 \u00d7 224 images, so make sure to address that when defining the ImageDataGenerator instances.\n4. Create a sequential model using Keras. Add VGG16 model to it and dense layer.\n5. Compile the mode using the adam optimizer and the categorical_crossentropy loss function.\n6. Fit the model on the augmented data using the ImageDataGenerators."
        },
        {
            "cell_type": "markdown",
            "metadata": {},
            "source": "Use the following cells to create your classifier."
        },
        {
            "cell_type": "code",
            "execution_count": 1,
            "metadata": {},
            "outputs": [
                {
                    "name": "stderr",
                    "output_type": "stream",
                    "text": "Using TensorFlow backend.\n"
                }
            ],
            "source": "import keras\nfrom tensorflow.keras.preprocessing.image import ImageDataGenerator\nfrom tensorflow.keras.models import Sequential\nfrom tensorflow.keras.layers import Dense\nfrom tensorflow.keras.applications import VGG16\nfrom tensorflow.keras.applications.vgg16 import preprocess_input"
        },
        {
            "cell_type": "code",
            "execution_count": 2,
            "metadata": {},
            "outputs": [],
            "source": "num_classes = 2\n\nimage_resize = 224\n\nbatch_size_training = 100\nbatch_size_validation = 100"
        },
        {
            "cell_type": "code",
            "execution_count": 3,
            "metadata": {
                "scrolled": true
            },
            "outputs": [],
            "source": "data_generator = ImageDataGenerator(\n    preprocessing_function=preprocess_input,\n)"
        },
        {
            "cell_type": "code",
            "execution_count": 4,
            "metadata": {},
            "outputs": [
                {
                    "name": "stdout",
                    "output_type": "stream",
                    "text": "Found 30001 images belonging to 2 classes.\n"
                }
            ],
            "source": "train_generator = data_generator.flow_from_directory(\n    'concrete_data_week4/concrete_data_week4/train',\n    target_size=(image_resize, image_resize),\n    batch_size=batch_size_training,\n    class_mode='categorical')"
        },
        {
            "cell_type": "code",
            "execution_count": 5,
            "metadata": {},
            "outputs": [
                {
                    "name": "stdout",
                    "output_type": "stream",
                    "text": "Found 9501 images belonging to 2 classes.\n"
                }
            ],
            "source": "validation_generator = data_generator.flow_from_directory(\n    'concrete_data_week4/concrete_data_week4/valid',\n    target_size=(image_resize, image_resize),\n    batch_size=batch_size_validation,\n    class_mode='categorical')\n"
        },
        {
            "cell_type": "code",
            "execution_count": 6,
            "metadata": {},
            "outputs": [],
            "source": "model = Sequential()"
        },
        {
            "cell_type": "code",
            "execution_count": 7,
            "metadata": {},
            "outputs": [],
            "source": "model.add(VGG16(\n    include_top=False,\n    pooling='avg',\n    weights='imagenet',\n    ))"
        },
        {
            "cell_type": "code",
            "execution_count": 8,
            "metadata": {},
            "outputs": [],
            "source": "model.add(Dense(num_classes, activation='softmax'))"
        },
        {
            "cell_type": "code",
            "execution_count": 9,
            "metadata": {},
            "outputs": [
                {
                    "data": {
                        "text/plain": "[<tensorflow.python.keras.engine.input_layer.InputLayer at 0x7ff5b460e908>,\n <tensorflow.python.keras.layers.convolutional.Conv2D at 0x7ff5b460ecc0>,\n <tensorflow.python.keras.layers.convolutional.Conv2D at 0x7ff5be4a30b8>,\n <tensorflow.python.keras.layers.pooling.MaxPooling2D at 0x7ff5b460efd0>,\n <tensorflow.python.keras.layers.convolutional.Conv2D at 0x7ff5b04e8d30>,\n <tensorflow.python.keras.layers.convolutional.Conv2D at 0x7ff5b028bbe0>,\n <tensorflow.python.keras.layers.pooling.MaxPooling2D at 0x7ff592760ba8>,\n <tensorflow.python.keras.layers.convolutional.Conv2D at 0x7ff592760438>,\n <tensorflow.python.keras.layers.convolutional.Conv2D at 0x7ff5b03ce6d8>,\n <tensorflow.python.keras.layers.convolutional.Conv2D at 0x7ff5b04a7b70>,\n <tensorflow.python.keras.layers.pooling.MaxPooling2D at 0x7ff5927ce0f0>,\n <tensorflow.python.keras.layers.convolutional.Conv2D at 0x7ff5927cedd8>,\n <tensorflow.python.keras.layers.convolutional.Conv2D at 0x7ff5b008cbe0>,\n <tensorflow.python.keras.layers.convolutional.Conv2D at 0x7ff5b0100fd0>,\n <tensorflow.python.keras.layers.pooling.MaxPooling2D at 0x7ff5b016d5f8>,\n <tensorflow.python.keras.layers.convolutional.Conv2D at 0x7ff5b00f9c88>,\n <tensorflow.python.keras.layers.convolutional.Conv2D at 0x7ff5b017e358>,\n <tensorflow.python.keras.layers.convolutional.Conv2D at 0x7ff5b056dfd0>,\n <tensorflow.python.keras.layers.pooling.MaxPooling2D at 0x7ff5b047df98>,\n <tensorflow.python.keras.layers.pooling.GlobalAveragePooling2D at 0x7ff5b047d7f0>]"
                    },
                    "execution_count": 9,
                    "metadata": {},
                    "output_type": "execute_result"
                }
            ],
            "source": "model.layers[0].layers"
        },
        {
            "cell_type": "code",
            "execution_count": 10,
            "metadata": {},
            "outputs": [],
            "source": "model.layers[0].trainable = False"
        },
        {
            "cell_type": "code",
            "execution_count": 11,
            "metadata": {},
            "outputs": [
                {
                    "name": "stdout",
                    "output_type": "stream",
                    "text": "_________________________________________________________________\nLayer (type)                 Output Shape              Param #   \n=================================================================\nvgg16 (Model)                (None, 512)               14714688  \n_________________________________________________________________\ndense (Dense)                (None, 2)                 1026      \n=================================================================\nTotal params: 14,715,714\nTrainable params: 1,026\nNon-trainable params: 14,714,688\n_________________________________________________________________\n"
                }
            ],
            "source": "model.summary()"
        },
        {
            "cell_type": "code",
            "execution_count": 12,
            "metadata": {},
            "outputs": [],
            "source": "model.compile(optimizer='adam', loss='categorical_crossentropy', metrics=['accuracy'])"
        },
        {
            "cell_type": "code",
            "execution_count": 13,
            "metadata": {},
            "outputs": [],
            "source": "steps_per_epoch_training = len(train_generator)\nsteps_per_epoch_validation = len(validation_generator)\nnum_epochs = 2"
        },
        {
            "cell_type": "markdown",
            "metadata": {},
            "source": "   "
        },
        {
            "cell_type": "code",
            "execution_count": 14,
            "metadata": {},
            "outputs": [
                {
                    "name": "stdout",
                    "output_type": "stream",
                    "text": "Epoch 1/2\n301/301 [==============================] - 120s 400ms/step - loss: 0.1410 - acc: 0.9550 - val_loss: 0.0263 - val_acc: 0.9943\nEpoch 2/2\n301/301 [==============================] - 121s 402ms/step - loss: 0.0205 - acc: 0.9954 - val_loss: 0.0154 - val_acc: 0.9962\n"
                }
            ],
            "source": "fit_history = model.fit_generator(\n    train_generator,\n    steps_per_epoch=steps_per_epoch_training,\n    epochs=num_epochs,\n    validation_data=validation_generator,\n    validation_steps=steps_per_epoch_validation,\n    verbose=1,\n)"
        },
        {
            "cell_type": "code",
            "execution_count": 17,
            "metadata": {},
            "outputs": [],
            "source": "model.save('classifier_VGG16_model.h5')"
        },
        {
            "cell_type": "markdown",
            "metadata": {},
            "source": "<a id=\"item43\"></a>"
        },
        {
            "cell_type": "markdown",
            "metadata": {},
            "source": "## Part 2"
        },
        {
            "cell_type": "markdown",
            "metadata": {},
            "source": "In this part, you will evaluate your deep learning models on a test data. For this part, you will need to do the following:\n\n1. Load your saved model that was built using the ResNet50 model. \n2. Construct an ImageDataGenerator for the test set. For this ImageDataGenerator instance, you only need to pass the directory of the test images, target size, and the **shuffle** parameter and set it to False.\n3. Use the **evaluate_generator** method to evaluate your models on the test data, by passing the above ImageDataGenerator as an argument. You can learn more about **evaluate_generator** [here](https://keras.io/models/sequential/).\n4. Print the performance of the classifier using the VGG16 pre-trained model.\n5. Print the performance of the classifier using the ResNet pre-trained model.\n"
        },
        {
            "cell_type": "markdown",
            "metadata": {},
            "source": "Use the following cells to evaluate your models."
        },
        {
            "cell_type": "code",
            "execution_count": 15,
            "metadata": {},
            "outputs": [],
            "source": "from keras.models import load_model"
        },
        {
            "cell_type": "code",
            "execution_count": 16,
            "metadata": {},
            "outputs": [
                {
                    "name": "stderr",
                    "output_type": "stream",
                    "text": "/usr/lib/python3/dist-packages/keras/engine/saving.py:327: UserWarning: Error in loading the saved optimizer state. As a result, your model is starting with a freshly initialized optimizer.\n  warnings.warn('Error in loading the saved optimizer '\n"
                }
            ],
            "source": "resnet = load_model('classifier_resnet_model.h5')"
        },
        {
            "cell_type": "code",
            "execution_count": 18,
            "metadata": {},
            "outputs": [
                {
                    "name": "stdout",
                    "output_type": "stream",
                    "text": "_________________________________________________________________\nLayer (type)                 Output Shape              Param #   \n=================================================================\nresnet50 (Model)             (None, 2048)              23587712  \n_________________________________________________________________\ndense_1 (Dense)              (None, 2)                 4098      \n=================================================================\nTotal params: 23,591,810\nTrainable params: 23,538,690\nNon-trainable params: 53,120\n_________________________________________________________________\n"
                }
            ],
            "source": "resnet.summary()"
        },
        {
            "cell_type": "code",
            "execution_count": 19,
            "metadata": {},
            "outputs": [
                {
                    "name": "stdout",
                    "output_type": "stream",
                    "text": "Found 500 images belonging to 2 classes.\n"
                }
            ],
            "source": "test_generator = data_generator.flow_from_directory(\n    'concrete_data_week4/concrete_data_week4/test',\n    target_size=(image_resize, image_resize),\n    shuffle=False)"
        },
        {
            "cell_type": "code",
            "execution_count": 20,
            "metadata": {},
            "outputs": [
                {
                    "data": {
                        "text/plain": "16"
                    },
                    "execution_count": 20,
                    "metadata": {},
                    "output_type": "execute_result"
                }
            ],
            "source": "len(test_generator)"
        },
        {
            "cell_type": "code",
            "execution_count": 21,
            "metadata": {},
            "outputs": [
                {
                    "data": {
                        "text/plain": "[0.012736795725766569, 0.996]"
                    },
                    "execution_count": 21,
                    "metadata": {},
                    "output_type": "execute_result"
                }
            ],
            "source": "model.evaluate_generator(test_generator,steps=16)"
        },
        {
            "cell_type": "code",
            "execution_count": 22,
            "metadata": {},
            "outputs": [
                {
                    "data": {
                        "text/plain": "[0.23132510803639889, 0.89799999904632566]"
                    },
                    "execution_count": 22,
                    "metadata": {},
                    "output_type": "execute_result"
                }
            ],
            "source": "resnet.evaluate_generator(test_generator,steps=16)"
        },
        {
            "cell_type": "code",
            "execution_count": 23,
            "metadata": {},
            "outputs": [],
            "source": "resnet = load_model('classifier_resnet_model.h5')"
        },
        {
            "cell_type": "markdown",
            "metadata": {},
            "source": "   "
        },
        {
            "cell_type": "markdown",
            "metadata": {},
            "source": "<a id=\"item44\"></a>"
        },
        {
            "cell_type": "markdown",
            "metadata": {},
            "source": "## Part 3"
        },
        {
            "cell_type": "markdown",
            "metadata": {},
            "source": "In this model, you will predict whether the images in the test data are images of cracked concrete or not. You will do the following:\n\n1. Use the **predict_generator** method to predict the class of the images in the test data, by passing the test data ImageDataGenerator instance defined in the previous part as an argument. You can learn more about the **predict_generator** method [here](https://keras.io/models/sequential/).\n2. Report the class predictions of the first five images in the test set. You should print something list this:\n\n<center>\n    <ul style=\"list-style-type:none\">\n        <li>Positive</li>  \n        <li>Negative</li> \n        <li>Positive</li>\n        <li>Positive</li>\n        <li>Negative</li>\n    </ul>\n</center>"
        },
        {
            "cell_type": "markdown",
            "metadata": {},
            "source": "Use the following cells to make your predictions."
        },
        {
            "cell_type": "code",
            "execution_count": 24,
            "metadata": {},
            "outputs": [],
            "source": "vgg16_prediction=model.predict_generator(test_generator)"
        },
        {
            "cell_type": "code",
            "execution_count": 25,
            "metadata": {},
            "outputs": [
                {
                    "name": "stdout",
                    "output_type": "stream",
                    "text": "Negative\nNegative\nNegative\nNegative\nNegative\n"
                }
            ],
            "source": "for row in vgg16_prediction[0:5]:\n    if row[[0]] >= row[[1]]:\n        print('Negative')\n    else:\n        print('postive')                    "
        },
        {
            "cell_type": "code",
            "execution_count": 26,
            "metadata": {},
            "outputs": [],
            "source": "resnet_prediction=resnet.predict_generator(test_generator,steps=16)"
        },
        {
            "cell_type": "code",
            "execution_count": 30,
            "metadata": {},
            "outputs": [
                {
                    "name": "stdout",
                    "output_type": "stream",
                    "text": "postive\npostive\nNegative\npostive\npostive\n"
                }
            ],
            "source": "for row in resnet_prediction[0:5]:\n    if row[[0]] >= row[[1]]:\n        print('Negative')\n    else:\n        print('postive')    "
        },
        {
            "cell_type": "markdown",
            "metadata": {},
            "source": "  "
        },
        {
            "cell_type": "markdown",
            "metadata": {
                "button": false,
                "new_sheet": false,
                "run_control": {
                    "read_only": false
                }
            },
            "source": "### Thank you for completing this lab!\n\nThis notebook was created by Alex Aklson."
        },
        {
            "cell_type": "markdown",
            "metadata": {
                "button": false,
                "new_sheet": false,
                "run_control": {
                    "read_only": false
                }
            },
            "source": "This notebook is part of a course on **Coursera** called *AI Capstone Project with Deep Learning*. If you accessed this notebook outside the course, you can take this course online by clicking [here](https://cocl.us/DL0321EN_Coursera_Week4_LAB1)."
        },
        {
            "cell_type": "markdown",
            "metadata": {
                "button": false,
                "new_sheet": false,
                "run_control": {
                    "read_only": false
                }
            },
            "source": "<hr>\n\nCopyright &copy; 2020 [IBM Developer Skills Network](https://cognitiveclass.ai/?utm_source=bducopyrightlink&utm_medium=dswb&utm_campaign=bdu). This notebook and its source code are released under the terms of the [MIT License](https://bigdatauniversity.com/mit-license/)."
        }
    ],
    "metadata": {
        "kernelspec": {
            "display_name": "Python 3.6",
            "language": "python",
            "name": "python3"
        },
        "language_info": {
            "codemirror_mode": {
                "name": "ipython",
                "version": 3
            },
            "file_extension": ".py",
            "mimetype": "text/x-python",
            "name": "python",
            "nbconvert_exporter": "python",
            "pygments_lexer": "ipython3",
            "version": "3.6.9"
        }
    },
    "nbformat": 4,
    "nbformat_minor": 4
}